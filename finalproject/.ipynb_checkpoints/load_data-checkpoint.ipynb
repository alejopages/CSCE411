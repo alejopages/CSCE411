{
 "cells": [
  {
   "cell_type": "code",
   "execution_count": 3,
   "metadata": {},
   "outputs": [],
   "source": [
    "from mysql import connector as dbcon\n",
    "import pandas as pd\n",
    "import os.path as osp\n",
    "import numpy as np\n",
    "import pickle as pkl"
   ]
  },
  {
   "cell_type": "code",
   "execution_count": 2,
   "metadata": {},
   "outputs": [],
   "source": [
    "def get_db_con():\n",
    "\n",
    "    config = {\n",
    "        'user': 'cfarmer',\n",
    "        'password': 'eKd65T',\n",
    "        'host': 'cse.unl.edu',\n",
    "        'database': 'cfarmer'\n",
    "    }\n",
    "\n",
    "    try:\n",
    "        con = dbcon.connect(**config)\n",
    "    except Exception as e:\n",
    "        print('Could not connect to database')\n",
    "        raise e\n",
    "\n",
    "    return con"
   ]
  },
  {
   "cell_type": "code",
   "execution_count": 1,
   "metadata": {},
   "outputs": [],
   "source": [
    "def get_stock_prices():\n",
    "    \n",
    "    if osp.exists('stock_prices.pkl'):\n",
    "        return pkl.load(open('stock_prices.pkl', 'rb'))\n",
    "    \n",
    "    con = get_db_con()\n",
    "    stockcur = con.cursor(buffered=True)\n",
    "    stockcur.execute(\"SELECT * FROM TeslaStock\")\n",
    "    \n",
    "    stock_prices = []\n",
    "    \n",
    "    for id, date, openprice, closeprice in stockcur.fetchall():\n",
    "        try:\n",
    "            stock_prices.append({'id'         : id,\n",
    "                                 'date'       : date,\n",
    "                                 'openprice'  : float(openprice),\n",
    "                                 'closeprice' : float(closeprice)})\n",
    "        except TypeError:\n",
    "            print(\"Excluding: {}\\t{}t{}\\t{}\".format(id, date, openprice, closeprice))\n",
    "    \n",
    "    stockcur.close()\n",
    "    con.close()\n",
    "    \n",
    "    store_data(stock_prices=stock_prices)\n",
    "\n",
    "    return stock_prices"
   ]
  },
  {
   "cell_type": "code",
   "execution_count": 2,
   "metadata": {},
   "outputs": [],
   "source": [
    "def get_word_counts():\n",
    "    \n",
    "    if osp.exists('word_counts.pkl'):\n",
    "        return pkl.load(open('word_counts.pkl', 'rb'))\n",
    "    \n",
    "    con = get_db_con()\n",
    "    wordcur = con.cursor(buffered=True)\n",
    "    wordcur.execute(\"SELECT rwc.id, rwc.word, rwc.count, w.date \"\\\n",
    "                   +\"FROM RawWordCount as rwc \"\\\n",
    "                   +\"RIGHT JOIN WordDate as w on rwc.dateId = w.id\")\n",
    "\n",
    "    word_counts = []\n",
    "\n",
    "    for id, word, count, date in wordcur.fetchall():\n",
    "        try:\n",
    "            word_counts.append({'id'  : id,\n",
    "                               'word' : word,\n",
    "                               'count': int(count),\n",
    "                               'date' : date})\n",
    "        except TypeError:\n",
    "             print(\"Excluding: {}\\t{}\\t{}\\t{}\".format(id, word, count, date))\n",
    "\n",
    "    wordcur.close()\n",
    "    con.close()\n",
    "        \n",
    "    store_data(word_counts=word_counts)\n",
    "        \n",
    "    return word_counts"
   ]
  },
  {
   "cell_type": "code",
   "execution_count": 3,
   "metadata": {},
   "outputs": [],
   "source": [
    "def store_data(word_counts=None, stock_prices=None):\n",
    "    if word_counts:\n",
    "        pkl.dump(word_counts, open('word_counts.pkl', 'wb'))\n",
    "    if stock_prices:\n",
    "        pkl.dump(stock_prices, open('stock_prices.pkl', 'wb'))"
   ]
  }
 ],
 "metadata": {
  "kernelspec": {
   "display_name": "Python 3",
   "language": "python",
   "name": "python3"
  },
  "language_info": {
   "codemirror_mode": {
    "name": "ipython",
    "version": 3
   },
   "file_extension": ".py",
   "mimetype": "text/x-python",
   "name": "python",
   "nbconvert_exporter": "python",
   "pygments_lexer": "ipython3",
   "version": "3.6.7"
  }
 },
 "nbformat": 4,
 "nbformat_minor": 2
}
